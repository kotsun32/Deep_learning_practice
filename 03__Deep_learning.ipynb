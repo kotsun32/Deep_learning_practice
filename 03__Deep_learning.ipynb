{
  "nbformat": 4,
  "nbformat_minor": 0,
  "metadata": {
    "colab": {
      "name": "03__Deep_learning.ipynb",
      "provenance": [],
      "authorship_tag": "ABX9TyOarlwIxnIWK4gcLhD39y6A",
      "include_colab_link": true
    },
    "kernelspec": {
      "name": "python3",
      "display_name": "Python 3"
    },
    "language_info": {
      "name": "python"
    },
    "accelerator": "GPU"
  },
  "cells": [
    {
      "cell_type": "markdown",
      "metadata": {
        "id": "view-in-github",
        "colab_type": "text"
      },
      "source": [
        "<a href=\"https://colab.research.google.com/github/kotsun32/Deep_learning_practice/blob/main/03__Deep_learning.ipynb\" target=\"_parent\"><img src=\"https://colab.research.google.com/assets/colab-badge.svg\" alt=\"Open In Colab\"/></a>"
      ]
    },
    {
      "cell_type": "code",
      "execution_count": 1,
      "metadata": {
        "id": "m-A2LRUZSbOV"
      },
      "outputs": [],
      "source": [
        "import zipfile"
      ]
    },
    {
      "cell_type": "code",
      "source": [
        "#!wget https://storage.googleapis.com/ztm_tf_course/food_vision/pizza_steak.zip "
      ],
      "metadata": {
        "id": "BEC8mz_1SlQE"
      },
      "execution_count": 2,
      "outputs": []
    },
    {
      "cell_type": "code",
      "source": [
        "#zip_ref = zipfile.ZipFile(\"pizza_steak.zip\", \"r\")\n",
        "#zip_ref.extractall()\n",
        "#zip_ref.close()"
      ],
      "metadata": {
        "id": "Y4PMoRTSSm1P"
      },
      "execution_count": 3,
      "outputs": []
    },
    {
      "cell_type": "code",
      "source": [
        "#!ls pizza_steak"
      ],
      "metadata": {
        "id": "fIs-cq_QS0NU"
      },
      "execution_count": 4,
      "outputs": []
    },
    {
      "cell_type": "code",
      "source": [
        "import os"
      ],
      "metadata": {
        "id": "_w59SCq5Y8Rl"
      },
      "execution_count": 5,
      "outputs": []
    },
    {
      "cell_type": "code",
      "source": [
        "import tensorflow as tf\n",
        "from tensorflow.keras.preprocessing.image import ImageDataGenerator\n",
        "\n",
        "train_datagen = ImageDataGenerator(rescale=1./255)\n",
        "valid_datagen = ImageDataGenerator(rescale=1./255)\n",
        "\n",
        "train_dir = \"/content/pizza_steak/train\"\n",
        "test_dir = \"/content/pizza_steak/test\"\n",
        "\n",
        "\n",
        "train_data = train_datagen.flow_from_directory(directory=train_dir,\n",
        "                                               batch_size=32,target_size=(224,224),\n",
        "                                               class_mode=\"binary\",seed=42)\n",
        "valid_data = valid_datagen.flow_from_directory(test_dir,batch_size=32,target_size=(224,224),class_mode=\"binary\",seed=42)\n",
        "\n",
        "model_1 = tf.keras.Sequential([\n",
        "          tf.keras.layers.Conv2D(filters=10,kernel_size=3,activation=\"relu\",input_shape=(224,224,3)),\n",
        "          tf.keras.layers.Conv2D(10,3,activation=\"relu\"),\n",
        "          tf.keras.layers.MaxPool2D(pool_size=2,padding=\"valid\"),\n",
        "          tf.keras.layers.Conv2D(10,3,activation=\"relu\"),\n",
        "          tf.keras.layers.Conv2D(10,3,activation=\"relu\"),\n",
        "          tf.keras.layers.MaxPool2D(2),\n",
        "          tf.keras.layers.Flatten(),\n",
        "          tf.keras.layers.Dense(1,\"sigmoid\")\n",
        "\n",
        "])\n",
        "\n",
        "model_1.compile(loss=tf.keras.losses.BinaryCrossentropy(),optimizer=\"Adam\",metrics=[\"accuracy\"])\n",
        "\n",
        "#hisroty_1= model_1.fit(train_data,epochs=5,steps_per_epoch=len(train_data),validation_data=valid_data,validation_steps=len(valid_data))"
      ],
      "metadata": {
        "colab": {
          "base_uri": "https://localhost:8080/",
          "height": 425
        },
        "id": "ehogmRxeZDp2",
        "outputId": "1a066a99-0e98-4df3-a53d-98adc2ed7bb3"
      },
      "execution_count": 6,
      "outputs": [
        {
          "output_type": "error",
          "ename": "FileNotFoundError",
          "evalue": "ignored",
          "traceback": [
            "\u001b[0;31m---------------------------------------------------------------------------\u001b[0m",
            "\u001b[0;31mFileNotFoundError\u001b[0m                         Traceback (most recent call last)",
            "\u001b[0;32m<ipython-input-6-125c97cb58c0>\u001b[0m in \u001b[0;36m<module>\u001b[0;34m()\u001b[0m\n\u001b[1;32m     11\u001b[0m train_data = train_datagen.flow_from_directory(directory=train_dir,\n\u001b[1;32m     12\u001b[0m                                                \u001b[0mbatch_size\u001b[0m\u001b[0;34m=\u001b[0m\u001b[0;36m32\u001b[0m\u001b[0;34m,\u001b[0m\u001b[0mtarget_size\u001b[0m\u001b[0;34m=\u001b[0m\u001b[0;34m(\u001b[0m\u001b[0;36m224\u001b[0m\u001b[0;34m,\u001b[0m\u001b[0;36m224\u001b[0m\u001b[0;34m)\u001b[0m\u001b[0;34m,\u001b[0m\u001b[0;34m\u001b[0m\u001b[0;34m\u001b[0m\u001b[0m\n\u001b[0;32m---> 13\u001b[0;31m                                                class_mode=\"binary\",seed=42)\n\u001b[0m\u001b[1;32m     14\u001b[0m \u001b[0mvalid_data\u001b[0m \u001b[0;34m=\u001b[0m \u001b[0mvalid_datagen\u001b[0m\u001b[0;34m.\u001b[0m\u001b[0mflow_from_directory\u001b[0m\u001b[0;34m(\u001b[0m\u001b[0mtest_dir\u001b[0m\u001b[0;34m,\u001b[0m\u001b[0mbatch_size\u001b[0m\u001b[0;34m=\u001b[0m\u001b[0;36m32\u001b[0m\u001b[0;34m,\u001b[0m\u001b[0mtarget_size\u001b[0m\u001b[0;34m=\u001b[0m\u001b[0;34m(\u001b[0m\u001b[0;36m224\u001b[0m\u001b[0;34m,\u001b[0m\u001b[0;36m224\u001b[0m\u001b[0;34m)\u001b[0m\u001b[0;34m,\u001b[0m\u001b[0mclass_mode\u001b[0m\u001b[0;34m=\u001b[0m\u001b[0;34m\"binary\"\u001b[0m\u001b[0;34m,\u001b[0m\u001b[0mseed\u001b[0m\u001b[0;34m=\u001b[0m\u001b[0;36m42\u001b[0m\u001b[0;34m)\u001b[0m\u001b[0;34m\u001b[0m\u001b[0;34m\u001b[0m\u001b[0m\n\u001b[1;32m     15\u001b[0m \u001b[0;34m\u001b[0m\u001b[0m\n",
            "\u001b[0;32m/usr/local/lib/python3.7/dist-packages/keras/preprocessing/image.py\u001b[0m in \u001b[0;36mflow_from_directory\u001b[0;34m(self, directory, target_size, color_mode, classes, class_mode, batch_size, shuffle, seed, save_to_dir, save_prefix, save_format, follow_links, subset, interpolation)\u001b[0m\n\u001b[1;32m    990\u001b[0m         \u001b[0mfollow_links\u001b[0m\u001b[0;34m=\u001b[0m\u001b[0mfollow_links\u001b[0m\u001b[0;34m,\u001b[0m\u001b[0;34m\u001b[0m\u001b[0;34m\u001b[0m\u001b[0m\n\u001b[1;32m    991\u001b[0m         \u001b[0msubset\u001b[0m\u001b[0;34m=\u001b[0m\u001b[0msubset\u001b[0m\u001b[0;34m,\u001b[0m\u001b[0;34m\u001b[0m\u001b[0;34m\u001b[0m\u001b[0m\n\u001b[0;32m--> 992\u001b[0;31m         interpolation=interpolation)\n\u001b[0m\u001b[1;32m    993\u001b[0m \u001b[0;34m\u001b[0m\u001b[0m\n\u001b[1;32m    994\u001b[0m   def flow_from_dataframe(self,\n",
            "\u001b[0;32m/usr/local/lib/python3.7/dist-packages/keras/preprocessing/image.py\u001b[0m in \u001b[0;36m__init__\u001b[0;34m(self, directory, image_data_generator, target_size, color_mode, classes, class_mode, batch_size, shuffle, seed, data_format, save_to_dir, save_prefix, save_format, follow_links, subset, interpolation, dtype)\u001b[0m\n\u001b[1;32m    408\u001b[0m         \u001b[0msubset\u001b[0m\u001b[0;34m=\u001b[0m\u001b[0msubset\u001b[0m\u001b[0;34m,\u001b[0m\u001b[0;34m\u001b[0m\u001b[0;34m\u001b[0m\u001b[0m\n\u001b[1;32m    409\u001b[0m         \u001b[0minterpolation\u001b[0m\u001b[0;34m=\u001b[0m\u001b[0minterpolation\u001b[0m\u001b[0;34m,\u001b[0m\u001b[0;34m\u001b[0m\u001b[0;34m\u001b[0m\u001b[0m\n\u001b[0;32m--> 410\u001b[0;31m         **kwargs)\n\u001b[0m\u001b[1;32m    411\u001b[0m \u001b[0;34m\u001b[0m\u001b[0m\n\u001b[1;32m    412\u001b[0m \u001b[0;34m\u001b[0m\u001b[0m\n",
            "\u001b[0;32m/usr/local/lib/python3.7/dist-packages/keras_preprocessing/image/directory_iterator.py\u001b[0m in \u001b[0;36m__init__\u001b[0;34m(self, directory, image_data_generator, target_size, color_mode, classes, class_mode, batch_size, shuffle, seed, data_format, save_to_dir, save_prefix, save_format, follow_links, subset, interpolation, dtype)\u001b[0m\n\u001b[1;32m    113\u001b[0m         \u001b[0;32mif\u001b[0m \u001b[0;32mnot\u001b[0m \u001b[0mclasses\u001b[0m\u001b[0;34m:\u001b[0m\u001b[0;34m\u001b[0m\u001b[0;34m\u001b[0m\u001b[0m\n\u001b[1;32m    114\u001b[0m             \u001b[0mclasses\u001b[0m \u001b[0;34m=\u001b[0m \u001b[0;34m[\u001b[0m\u001b[0;34m]\u001b[0m\u001b[0;34m\u001b[0m\u001b[0;34m\u001b[0m\u001b[0m\n\u001b[0;32m--> 115\u001b[0;31m             \u001b[0;32mfor\u001b[0m \u001b[0msubdir\u001b[0m \u001b[0;32min\u001b[0m \u001b[0msorted\u001b[0m\u001b[0;34m(\u001b[0m\u001b[0mos\u001b[0m\u001b[0;34m.\u001b[0m\u001b[0mlistdir\u001b[0m\u001b[0;34m(\u001b[0m\u001b[0mdirectory\u001b[0m\u001b[0;34m)\u001b[0m\u001b[0;34m)\u001b[0m\u001b[0;34m:\u001b[0m\u001b[0;34m\u001b[0m\u001b[0;34m\u001b[0m\u001b[0m\n\u001b[0m\u001b[1;32m    116\u001b[0m                 \u001b[0;32mif\u001b[0m \u001b[0mos\u001b[0m\u001b[0;34m.\u001b[0m\u001b[0mpath\u001b[0m\u001b[0;34m.\u001b[0m\u001b[0misdir\u001b[0m\u001b[0;34m(\u001b[0m\u001b[0mos\u001b[0m\u001b[0;34m.\u001b[0m\u001b[0mpath\u001b[0m\u001b[0;34m.\u001b[0m\u001b[0mjoin\u001b[0m\u001b[0;34m(\u001b[0m\u001b[0mdirectory\u001b[0m\u001b[0;34m,\u001b[0m \u001b[0msubdir\u001b[0m\u001b[0;34m)\u001b[0m\u001b[0;34m)\u001b[0m\u001b[0;34m:\u001b[0m\u001b[0;34m\u001b[0m\u001b[0;34m\u001b[0m\u001b[0m\n\u001b[1;32m    117\u001b[0m                     \u001b[0mclasses\u001b[0m\u001b[0;34m.\u001b[0m\u001b[0mappend\u001b[0m\u001b[0;34m(\u001b[0m\u001b[0msubdir\u001b[0m\u001b[0;34m)\u001b[0m\u001b[0;34m\u001b[0m\u001b[0;34m\u001b[0m\u001b[0m\n",
            "\u001b[0;31mFileNotFoundError\u001b[0m: [Errno 2] No such file or directory: '/content/pizza_steak/train'"
          ]
        }
      ]
    },
    {
      "cell_type": "code",
      "source": [
        "#model_1.summary()"
      ],
      "metadata": {
        "id": "VYu2m7XdVZtI"
      },
      "execution_count": null,
      "outputs": []
    },
    {
      "cell_type": "code",
      "source": [
        "import zipfile \n",
        "!wget https://storage.googleapis.com/ztm_tf_course/food_vision/10_food_classes_all_data.zip\n",
        "zip_ref = zipfile.ZipFile(\"10_food_classes_all_data.zip\",\"r\")\n",
        "zip_ref.extractall()\n",
        "zip_ref.close()"
      ],
      "metadata": {
        "colab": {
          "base_uri": "https://localhost:8080/"
        },
        "id": "B1bjB_Lclt3g",
        "outputId": "bae20b8b-5928-47b1-ec38-87d62ffc5b83"
      },
      "execution_count": 7,
      "outputs": [
        {
          "output_type": "stream",
          "name": "stdout",
          "text": [
            "--2022-06-09 00:07:56--  https://storage.googleapis.com/ztm_tf_course/food_vision/10_food_classes_all_data.zip\n",
            "Resolving storage.googleapis.com (storage.googleapis.com)... 172.217.1.208, 142.250.188.208, 172.253.62.128, ...\n",
            "Connecting to storage.googleapis.com (storage.googleapis.com)|172.217.1.208|:443... connected.\n",
            "HTTP request sent, awaiting response... 200 OK\n",
            "Length: 519183241 (495M) [application/zip]\n",
            "Saving to: ‘10_food_classes_all_data.zip’\n",
            "\n",
            "10_food_classes_all 100%[===================>] 495.13M   113MB/s    in 4.4s    \n",
            "\n",
            "2022-06-09 00:08:01 (113 MB/s) - ‘10_food_classes_all_data.zip’ saved [519183241/519183241]\n",
            "\n"
          ]
        }
      ]
    },
    {
      "cell_type": "code",
      "source": [
        "train_dir = \"10_food_classes_all_data/train/\"\n",
        "test_dir = \"10_food_classes_all_data/test/\""
      ],
      "metadata": {
        "id": "zZ1d--4fNOGw"
      },
      "execution_count": 8,
      "outputs": []
    },
    {
      "cell_type": "code",
      "source": [
        "import pathlib\n",
        "import numpy as np\n",
        "data_dir = pathlib.Path(train_dir)\n",
        "class_names = np.array(sorted([item.name for item in data_dir.glob('*')]))\n",
        "print(class_names)"
      ],
      "metadata": {
        "colab": {
          "base_uri": "https://localhost:8080/"
        },
        "id": "xWtaylsEPhru",
        "outputId": "c2de1e27-b774-43b8-8f73-85b2ffe5ff2c"
      },
      "execution_count": 9,
      "outputs": [
        {
          "output_type": "stream",
          "name": "stdout",
          "text": [
            "['chicken_curry' 'chicken_wings' 'fried_rice' 'grilled_salmon' 'hamburger'\n",
            " 'ice_cream' 'pizza' 'ramen' 'steak' 'sushi']\n"
          ]
        }
      ]
    },
    {
      "cell_type": "code",
      "source": [
        "import random\n",
        "#img = view_random_image(target_dir=train_dir,\n",
        "                    #    target_class=random.choice(class_names))"
      ],
      "metadata": {
        "id": "NQLfFpKWPjfx"
      },
      "execution_count": 10,
      "outputs": []
    },
    {
      "cell_type": "code",
      "source": [
        "from tensorflow.keras.preprocessing.image import ImageDataGenerator\n"
      ],
      "metadata": {
        "id": "mjpwI2k9PvVm"
      },
      "execution_count": 11,
      "outputs": []
    },
    {
      "cell_type": "code",
      "source": [
        "train_datagen = ImageDataGenerator(rescale=1/255.)\n",
        "\n",
        "test_datagen = ImageDataGenerator(rescale=1/255.)\n",
        "\n",
        "train_data = train_datagen.flow_from_directory(train_dir,target_size=(224,224),batch_size=32)\n",
        "\n",
        "test_data = test_datagen.flow_from_directory(test_dir,target_size=(224,224),batch_size=32)\n",
        "\n",
        "\n",
        "\n",
        "\n"
      ],
      "metadata": {
        "colab": {
          "base_uri": "https://localhost:8080/"
        },
        "id": "Bak7qxvHh5Jn",
        "outputId": "3dffa8ba-17af-4333-8e6b-7c787cc57325"
      },
      "execution_count": 12,
      "outputs": [
        {
          "output_type": "stream",
          "name": "stdout",
          "text": [
            "Found 7500 images belonging to 10 classes.\n",
            "Found 2500 images belonging to 10 classes.\n"
          ]
        }
      ]
    },
    {
      "cell_type": "code",
      "source": [
        "import tensorflow as tf\n",
        "\n",
        "from tensorflow.keras.models import Sequential\n",
        "from tensorflow.keras.layers import Conv2D,MaxPool2D,Flatten, Activation, Dense \n",
        "\n",
        "model_2 = Sequential([\n",
        "                      Conv2D(10,3,input_shape=(224,224,3)),\n",
        "                      Activation(activation=\"relu\"),\n",
        "                      Conv2D(10,3),\n",
        "                      Activation(activation=\"relu\"),\n",
        "                      MaxPool2D(),\n",
        "                      Conv2D(10,3,activation=\"relu\"),\n",
        "                      Conv2D(10,3,activation=\"relu\"),\n",
        "                      MaxPool2D(),\n",
        "                      Flatten(),\n",
        "                      Dense(10,activation=\"softmax\")\n",
        "\n",
        "])\n",
        "\n",
        "model_2.compile(loss=\"categorical_crossentropy\",optimizer=tf.keras.optimizers.Adam(),metrics=[\"accuracy\"])\n",
        "\n",
        "#model_2.compile(loss=\"categorical_crossentropy\", # changed to categorical_crossentropy\n",
        "              #  optimizer=tf.keras.optimizers.Adam(),\n",
        "               # metrics=[\"accuracy\"])"
      ],
      "metadata": {
        "id": "zExe5pZejNRC"
      },
      "execution_count": 13,
      "outputs": []
    },
    {
      "cell_type": "code",
      "source": [
        "history_2 = model_2.fit(train_data, # now 10 different classes \n",
        "                        epochs=5,\n",
        "                        steps_per_epoch=len(train_data),\n",
        "                        validation_data=test_data,\n",
        "                        validation_steps=len(test_data))"
      ],
      "metadata": {
        "colab": {
          "base_uri": "https://localhost:8080/"
        },
        "id": "NCZmMSKYl7DV",
        "outputId": "3cf3d765-cfa4-49dc-8ef3-32fa77c2c8e2"
      },
      "execution_count": 14,
      "outputs": [
        {
          "output_type": "stream",
          "name": "stdout",
          "text": [
            "Epoch 1/5\n",
            "235/235 [==============================] - 59s 199ms/step - loss: 2.2367 - accuracy: 0.1699 - val_loss: 2.1214 - val_accuracy: 0.2244\n",
            "Epoch 2/5\n",
            "235/235 [==============================] - 45s 192ms/step - loss: 1.9744 - accuracy: 0.3169 - val_loss: 2.0928 - val_accuracy: 0.2696\n",
            "Epoch 3/5\n",
            "235/235 [==============================] - 45s 192ms/step - loss: 1.4611 - accuracy: 0.4995 - val_loss: 2.1428 - val_accuracy: 0.2716\n",
            "Epoch 4/5\n",
            "235/235 [==============================] - 46s 196ms/step - loss: 0.7798 - accuracy: 0.7504 - val_loss: 2.8728 - val_accuracy: 0.2564\n",
            "Epoch 5/5\n",
            "235/235 [==============================] - 45s 193ms/step - loss: 0.2677 - accuracy: 0.9223 - val_loss: 4.5070 - val_accuracy: 0.2412\n"
          ]
        }
      ]
    },
    {
      "cell_type": "code",
      "source": [
        "model_2.evaluate(test_data)"
      ],
      "metadata": {
        "colab": {
          "base_uri": "https://localhost:8080/"
        },
        "id": "Pq4R8ub-nvfh",
        "outputId": "f23dc1fb-1f9c-4dd9-c562-d77d2817f066"
      },
      "execution_count": 15,
      "outputs": [
        {
          "output_type": "stream",
          "name": "stdout",
          "text": [
            "79/79 [==============================] - 11s 135ms/step - loss: 4.5070 - accuracy: 0.2412\n"
          ]
        },
        {
          "output_type": "execute_result",
          "data": {
            "text/plain": [
              "[4.506959438323975, 0.24120000004768372]"
            ]
          },
          "metadata": {},
          "execution_count": 15
        }
      ]
    },
    {
      "cell_type": "code",
      "source": [
        "model_3 = Sequential([\n",
        "                      Conv2D(10,3,input_shape=(224,224,3)),\n",
        "                      Activation(activation=\"relu\"),\n",
        "                      #Conv2D(10,3),\n",
        "                      #Activation(activation=\"relu\"),\n",
        "                      MaxPool2D(),\n",
        "                      Conv2D(10,3,activation=\"relu\"),\n",
        "                      #Conv2D(10,3,activation=\"relu\"),\n",
        "                      MaxPool2D(),\n",
        "                      Flatten(),\n",
        "                      Dense(10,activation=\"softmax\")\n",
        "\n",
        "])\n",
        "\n",
        "model_2.compile(loss=\"categorical_crossentropy\",optimizer=tf.keras.optimizers.Adam(),metrics=[\"accuracy\"])\n",
        "\n",
        "history_2 = model_2.fit(train_data, # now 10 different classes \n",
        "                        epochs=5,\n",
        "                        steps_per_epoch=len(train_data),\n",
        "                        validation_data=test_data,\n",
        "                        validation_steps=len(test_data))"
      ],
      "metadata": {
        "colab": {
          "base_uri": "https://localhost:8080/"
        },
        "id": "PI6Vm8tfpUWW",
        "outputId": "d22b6079-4a96-4bd2-fda8-b9000cb5b47a"
      },
      "execution_count": 16,
      "outputs": [
        {
          "output_type": "stream",
          "name": "stdout",
          "text": [
            "Epoch 1/5\n",
            "235/235 [==============================] - 45s 190ms/step - loss: 0.1027 - accuracy: 0.9696 - val_loss: 6.2570 - val_accuracy: 0.2400\n",
            "Epoch 2/5\n",
            "235/235 [==============================] - 44s 189ms/step - loss: 0.0647 - accuracy: 0.9811 - val_loss: 7.1087 - val_accuracy: 0.2348\n",
            "Epoch 3/5\n",
            "235/235 [==============================] - 48s 203ms/step - loss: 0.0390 - accuracy: 0.9893 - val_loss: 7.6177 - val_accuracy: 0.2276\n",
            "Epoch 4/5\n",
            "235/235 [==============================] - 48s 206ms/step - loss: 0.0393 - accuracy: 0.9888 - val_loss: 7.5149 - val_accuracy: 0.2440\n",
            "Epoch 5/5\n",
            "235/235 [==============================] - 46s 196ms/step - loss: 0.0510 - accuracy: 0.9851 - val_loss: 7.7709 - val_accuracy: 0.2224\n"
          ]
        }
      ]
    },
    {
      "cell_type": "code",
      "source": [
        "train_datagen_augmented = ImageDataGenerator(rescale = 1/255.,rotation_range = 0.2,width_shift_range=0.2,height_shift_range=0.2,zoom_range=0.2,\n",
        "                                        horizontal_flip=True)\n",
        "\n",
        "train_data_augmented = train_datagen_augmented.flow_from_directory(train_dir,target_size=(224,224),batch_size=32,class_mode=\"categorical\")\n"
      ],
      "metadata": {
        "colab": {
          "base_uri": "https://localhost:8080/"
        },
        "id": "JKHbMJcLzRLg",
        "outputId": "1a8e3c0f-e543-45b8-d6bd-0f237287e6a9"
      },
      "execution_count": 18,
      "outputs": [
        {
          "output_type": "stream",
          "name": "stdout",
          "text": [
            "Found 7500 images belonging to 10 classes.\n"
          ]
        }
      ]
    },
    {
      "cell_type": "code",
      "source": [
        "model_4 = Sequential([\n",
        "                      Conv2D(10,3,input_shape=(224,224,3)),\n",
        "                      Activation(activation=\"relu\"),\n",
        "                      Conv2D(10,3),\n",
        "                      Activation(activation=\"relu\"),\n",
        "                      MaxPool2D(),\n",
        "                      Conv2D(10,3,activation=\"relu\"),\n",
        "                      Conv2D(10,3,activation=\"relu\"),\n",
        "                      MaxPool2D(),\n",
        "                      Flatten(),\n",
        "                      Dense(10,activation=\"softmax\")\n",
        "\n",
        "])\n",
        "\n",
        "model_4.compile(loss=\"categorical_crossentropy\",optimizer=tf.keras.optimizers.Adam(),metrics=[\"accuracy\"])\n",
        "\n",
        "history_4 = model_4.fit(train_data_augmented, # now 10 different classes \n",
        "                        epochs=5,\n",
        "                        steps_per_epoch=len(train_data),\n",
        "                        validation_data=test_data,\n",
        "                        validation_steps=len(test_data))"
      ],
      "metadata": {
        "colab": {
          "base_uri": "https://localhost:8080/"
        },
        "id": "fHblGtRH0xey",
        "outputId": "a4fcd1e7-f2a8-4130-fdfe-bd30dfc20f5b"
      },
      "execution_count": 20,
      "outputs": [
        {
          "output_type": "stream",
          "name": "stdout",
          "text": [
            "Epoch 1/5\n",
            "235/235 [==============================] - 111s 468ms/step - loss: 2.2505 - accuracy: 0.1809 - val_loss: 2.1017 - val_accuracy: 0.2084\n",
            "Epoch 2/5\n",
            "235/235 [==============================] - 109s 464ms/step - loss: 2.1174 - accuracy: 0.2385 - val_loss: 2.0361 - val_accuracy: 0.2564\n",
            "Epoch 3/5\n",
            "235/235 [==============================] - 116s 494ms/step - loss: 2.0522 - accuracy: 0.2639 - val_loss: 1.8728 - val_accuracy: 0.3516\n",
            "Epoch 4/5\n",
            "235/235 [==============================] - 110s 469ms/step - loss: 2.0059 - accuracy: 0.2933 - val_loss: 1.8470 - val_accuracy: 0.3512\n",
            "Epoch 5/5\n",
            "235/235 [==============================] - 110s 467ms/step - loss: 1.9693 - accuracy: 0.3079 - val_loss: 1.8154 - val_accuracy: 0.3832\n"
          ]
        }
      ]
    },
    {
      "cell_type": "code",
      "source": [
        "model_4.save(\"Saved_model_4_CNN\")"
      ],
      "metadata": {
        "colab": {
          "base_uri": "https://localhost:8080/"
        },
        "id": "QhS2npvx1lHP",
        "outputId": "545d31fa-0bc2-4751-961f-be8be9baa484"
      },
      "execution_count": 21,
      "outputs": [
        {
          "output_type": "stream",
          "name": "stdout",
          "text": [
            "INFO:tensorflow:Assets written to: Saved_model_4_CNN/assets\n"
          ]
        }
      ]
    },
    {
      "cell_type": "code",
      "source": [
        "loaded_model_4 = tf.keras.models.load_model(\"Saved_model_4_CNN\")"
      ],
      "metadata": {
        "id": "YwGO74Oj24M2"
      },
      "execution_count": 22,
      "outputs": []
    },
    {
      "cell_type": "code",
      "source": [
        "loaded_model_4.evaluate(test_data)"
      ],
      "metadata": {
        "colab": {
          "base_uri": "https://localhost:8080/"
        },
        "id": "OOKkE3oj3Fj5",
        "outputId": "cefa0eed-4121-4751-b26f-6a5b1eba3d81"
      },
      "execution_count": 23,
      "outputs": [
        {
          "output_type": "stream",
          "name": "stdout",
          "text": [
            "79/79 [==============================] - 11s 134ms/step - loss: 1.8154 - accuracy: 0.3832\n"
          ]
        },
        {
          "output_type": "execute_result",
          "data": {
            "text/plain": [
              "[1.8154397010803223, 0.3831999897956848]"
            ]
          },
          "metadata": {},
          "execution_count": 23
        }
      ]
    },
    {
      "cell_type": "code",
      "source": [
        ""
      ],
      "metadata": {
        "id": "HgB3OIo_3Mye"
      },
      "execution_count": null,
      "outputs": []
    }
  ]
}